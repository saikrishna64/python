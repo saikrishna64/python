{
 "cells": [
  {
   "cell_type": "raw",
   "id": "bdd14f58",
   "metadata": {},
   "source": [
    "1. \n",
    "\n",
    "a = [10,20,30,50,100] \n",
    "\n",
    "\n",
    "find the mean(average) for above values \n",
    "\n",
    "average formula = sum/ no of values "
   ]
  },
  {
   "cell_type": "raw",
   "id": "5566adbc",
   "metadata": {},
   "source": [
    "2.\n",
    "\n",
    "\n",
    "take ur name as input and remove vowels from them [vowerls means (aeiouAEIOU)]\n",
    "\n",
    "EX : input = sai kamal \n",
    "\n",
    "expected output = skml\n"
   ]
  },
  {
   "cell_type": "raw",
   "id": "6e8d8ef4",
   "metadata": {},
   "source": [
    "3.\n",
    "\n",
    "take ur name as input and print vowels from them [vowerls means (aeiouAEIOU)]\n",
    "\n",
    "EX : input = sai kamal \n",
    "\n",
    "expected output = ai"
   ]
  },
  {
   "cell_type": "raw",
   "id": "10565ffc",
   "metadata": {},
   "source": [
    "4.\n",
    "\n",
    "\n",
    "Which of these about a set is not true?\n",
    "\n",
    "a) Mutable data type\n",
    "b) Allows duplicate values\n",
    "c) Data type with unordered values\n",
    "d) Immutable data type"
   ]
  },
  {
   "cell_type": "raw",
   "id": "fe834ce1",
   "metadata": {},
   "source": [
    "5.\n",
    "\n",
    "Task : Write a Python program to create a function that takes one argument, and that argument will be multiplied with an unknown given number.\n",
    "\n",
    "\n",
    "Sample Output =  15  \n",
    "Double the number of 15 = 30\n",
    "Triple the number of 15 = 45\n",
    "Quadruple the number of 15 = 60\n",
    "Quintuple the number 15 = 75"
   ]
  },
  {
   "cell_type": "raw",
   "id": "f42bdb23",
   "metadata": {},
   "source": [
    "6.\n",
    "\n",
    "\n",
    "Task : Write a Python program to find if a given string starts with a given character using Lambda. \n",
    "\n",
    "Sample Output:\n",
    "True\n",
    "False"
   ]
  },
  {
   "cell_type": "raw",
   "id": "a96fe21a",
   "metadata": {},
   "source": [
    "7. \n",
    "\n",
    "\n",
    "\n",
    "Task : Write a Python Programme to calculate the number of Digits and Letters in a string "
   ]
  },
  {
   "cell_type": "raw",
   "id": "b1db3c04",
   "metadata": {},
   "source": [
    "8.\n",
    "\n",
    "Task :\n",
    "\n",
    "Write a Python Programme to find the values Divisible by 5 and 3 from 15 to 50 \n",
    "\n",
    "sample output = 15,30,45"
   ]
  },
  {
   "cell_type": "raw",
   "id": "b9a4c2f2",
   "metadata": {},
   "source": [
    "9.\n",
    "\n",
    "Write a Python function to convert a given string to all uppercase if it contains at least 2 uppercase characters in the first 4 characters"
   ]
  },
  {
   "cell_type": "raw",
   "id": "e9981d27",
   "metadata": {},
   "source": [
    "10 . Write a Python program to move spaces to the front of a given string\n",
    "\n",
    "\n",
    "\n",
    "ex:\n",
    "input = sai kamal\n",
    "output = ' saikamal'"
   ]
  },
  {
   "cell_type": "markdown",
   "id": "f7306737",
   "metadata": {},
   "source": [
    "### Guys complete this assignment and upload in ur github by creating a repository and share me the link after completing "
   ]
  },
  {
   "cell_type": "code",
   "execution_count": 3,
   "id": "a7cb3456",
   "metadata": {},
   "outputs": [
    {
     "name": "stdout",
     "output_type": "stream",
     "text": [
      "42.0\n"
     ]
    }
   ],
   "source": [
    "#1\n",
    "\n",
    "a=[10,20,30,50,100]\n",
    "average=sum(a)/len(a)\n",
    "print(average)"
   ]
  },
  {
   "cell_type": "code",
   "execution_count": 17,
   "id": "ba5e2c23",
   "metadata": {},
   "outputs": [
    {
     "name": "stdout",
     "output_type": "stream",
     "text": [
      "skrshn\n"
     ]
    }
   ],
   "source": [
    "#2\n",
    "\n",
    "string='sai krishna'\n",
    "vowels=['a','e','i','o','u','A','E','I','O','U']\n",
    "result=\"\"\n",
    "for i in range(len(string)):\n",
    "    if string[i] not in vowels:\n",
    "        result=result+string[i]\n",
    "        \n",
    "result=result.replace(\" \",\"\")\n",
    "print(result)"
   ]
  },
  {
   "cell_type": "code",
   "execution_count": 16,
   "id": "13d69381",
   "metadata": {},
   "outputs": [
    {
     "name": "stdout",
     "output_type": "stream",
     "text": [
      "ai\n"
     ]
    }
   ],
   "source": [
    "#3\n",
    "\n",
    "string='sai krishna'\n",
    "vowels=['a','e','i','o','u','A','E','I','O','U']\n",
    "result=\"\"\n",
    "for i in range(len(string)):\n",
    "    if string[i] in vowels:\n",
    "        result=result+string[i]\n",
    "        \n",
    "result=''.join(dict.fromkeys(result))\n",
    "print(result)"
   ]
  },
  {
   "cell_type": "code",
   "execution_count": null,
   "id": "a49e0d4b",
   "metadata": {},
   "outputs": [],
   "source": [
    "#4\n",
    "\n",
    "4. immutable data type"
   ]
  },
  {
   "cell_type": "code",
   "execution_count": 20,
   "id": "8defcdc1",
   "metadata": {},
   "outputs": [
    {
     "name": "stdout",
     "output_type": "stream",
     "text": [
      "Double the given number: 30\n",
      "Triple the given number: 45\n",
      "Quarduple the given number: 60\n",
      "Quintuple the given number: 75\n"
     ]
    }
   ],
   "source": [
    "#5\n",
    "\n",
    "def sai(a):\n",
    "    print(\"Double the given number:\",a*2)\n",
    "    print(\"Triple the given number:\",a*3)\n",
    "    print(\"Quarduple the given number:\",a*4)\n",
    "    print(\"Quintuple the given number:\",a*5)\n",
    "\n",
    "sai(15)\n"
   ]
  },
  {
   "cell_type": "code",
   "execution_count": 48,
   "id": "50419901",
   "metadata": {},
   "outputs": [
    {
     "name": "stdout",
     "output_type": "stream",
     "text": [
      "True\n",
      "False\n"
     ]
    }
   ],
   "source": [
    "#6\n",
    "\n",
    "string=lambda x: True if x.startswith('S') else False\n",
    "print(string('Sai'))\n",
    "string1=lambda x: True if x.statswith('S') else False\n",
    "print(string('Krishna'))"
   ]
  },
  {
   "cell_type": "code",
   "execution_count": 31,
   "id": "64b361a9",
   "metadata": {},
   "outputs": [
    {
     "name": "stdout",
     "output_type": "stream",
     "text": [
      "total digits: 4\n",
      "total letters: 6\n"
     ]
    }
   ],
   "source": [
    "#7 \n",
    "\n",
    "string=\"python1234\"\n",
    "total_digits=0\n",
    "total_letters=0\n",
    "for i in string:\n",
    "    if i.isdigit():\n",
    "        total_digits=total_digits+1\n",
    "    elif i.isalpha:\n",
    "        total_letters=total_letters+1\n",
    "    else:\n",
    "        pass\n",
    "\n",
    "print(\"total digits:\",total_digits)\n",
    "print(\"total letters:\",total_letters)"
   ]
  },
  {
   "cell_type": "code",
   "execution_count": 39,
   "id": "749dc9a2",
   "metadata": {},
   "outputs": [
    {
     "name": "stdout",
     "output_type": "stream",
     "text": [
      "[15, 30, 45]\n"
     ]
    }
   ],
   "source": [
    "#8\n",
    "\n",
    "a=[]\n",
    "for i in range(15,50):\n",
    "    if i%5==0:\n",
    "        if i%3==0:\n",
    "            a.append(i)\n",
    "            \n",
    "        \n",
    "print(a)\n",
    "        "
   ]
  },
  {
   "cell_type": "code",
   "execution_count": 46,
   "id": "e1c45ffc",
   "metadata": {},
   "outputs": [
    {
     "name": "stdout",
     "output_type": "stream",
     "text": [
      "Saikrishna\n",
      "SAIKRISHNA\n"
     ]
    }
   ],
   "source": [
    "#9\n",
    "\n",
    "def sai_krishna(input):\n",
    "    uppercaseletter=0\n",
    "    for i in input[:4]:\n",
    "        if i==i.upper():\n",
    "            uppercaseletter=uppercaseletter+1\n",
    "    if uppercaseletter>=2:\n",
    "        return input.upper()\n",
    "    return input\n",
    "        \n",
    "    \n",
    "print(sai_krishna('Saikrishna'))\n",
    "print(sai_krishna('SaiKrishna'))"
   ]
  },
  {
   "cell_type": "code",
   "execution_count": 43,
   "id": "ca0407f0",
   "metadata": {},
   "outputs": [
    {
     "name": "stdout",
     "output_type": "stream",
     "text": [
      "' saikrishna'\n"
     ]
    }
   ],
   "source": [
    "#10\n",
    "\n",
    "def sai_krishna(input):\n",
    "    no_spaces=[i for i in input if i!=' ' ]\n",
    "    no_of_spaces=len(input)-len(no_spaces)\n",
    "    spaces=' '*no_of_spaces\n",
    "    result=\"'\"+spaces+''.join(no_spaces)+\"'\"\n",
    "    print(result)\n",
    "    \n",
    "sai_krishna('sai krishna')"
   ]
  },
  {
   "cell_type": "code",
   "execution_count": null,
   "id": "377e1424",
   "metadata": {},
   "outputs": [],
   "source": []
  }
 ],
 "metadata": {
  "kernelspec": {
   "display_name": "Python 3 (ipykernel)",
   "language": "python",
   "name": "python3"
  },
  "language_info": {
   "codemirror_mode": {
    "name": "ipython",
    "version": 3
   },
   "file_extension": ".py",
   "mimetype": "text/x-python",
   "name": "python",
   "nbconvert_exporter": "python",
   "pygments_lexer": "ipython3",
   "version": "3.9.12"
  }
 },
 "nbformat": 4,
 "nbformat_minor": 5
}
