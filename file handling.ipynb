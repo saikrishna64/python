{
 "cells": [
  {
   "cell_type": "code",
   "execution_count": 1,
   "id": "362aaad3",
   "metadata": {},
   "outputs": [
    {
     "name": "stdout",
     "output_type": "stream",
     "text": [
      "123\n",
      "123\n"
     ]
    }
   ],
   "source": [
    "a=int(input())\n",
    "print(a)"
   ]
  },
  {
   "cell_type": "code",
   "execution_count": 7,
   "id": "a0f88e15",
   "metadata": {},
   "outputs": [
    {
     "name": "stdout",
     "output_type": "stream",
     "text": [
      "18\n"
     ]
    }
   ],
   "source": [
    "from functools import reduce\n",
    "b=reduce(lambda x,y:x+y,map(lambda x:x+2,filter(lambda x:x>=3,[1,2,3,4,5])))\n",
    "print(b)"
   ]
  },
  {
   "cell_type": "code",
   "execution_count": 9,
   "id": "b2a37eb9",
   "metadata": {},
   "outputs": [
    {
     "name": "stdout",
     "output_type": "stream",
     "text": [
      "[1, 4, 9, 16]\n"
     ]
    }
   ],
   "source": [
    "a=[1,2,3,4]\n",
    "b=[i*i for i in a]\n",
    "print(b)"
   ]
  },
  {
   "cell_type": "code",
   "execution_count": 11,
   "id": "d2ee33c6",
   "metadata": {},
   "outputs": [
    {
     "name": "stdout",
     "output_type": "stream",
     "text": [
      "[1, 4, 9, 16]\n"
     ]
    }
   ],
   "source": [
    "a=[1,2,3,4]\n",
    "print([i*i for i in a])\n"
   ]
  },
  {
   "cell_type": "code",
   "execution_count": 12,
   "id": "dd943c78",
   "metadata": {},
   "outputs": [
    {
     "name": "stdout",
     "output_type": "stream",
     "text": [
      "[3, 4]\n"
     ]
    }
   ],
   "source": [
    "a=[1,2,3,4]\n",
    "b=[i for i in a if i>=3]\n",
    "print(b)"
   ]
  },
  {
   "cell_type": "code",
   "execution_count": 13,
   "id": "8803c2a0",
   "metadata": {},
   "outputs": [
    {
     "name": "stdout",
     "output_type": "stream",
     "text": [
      "[2, 4]\n"
     ]
    }
   ],
   "source": [
    "a=[1,2,3,4]\n",
    "b=[i for i in a if i%2==0]\n",
    "print(b)"
   ]
  },
  {
   "cell_type": "code",
   "execution_count": 17,
   "id": "d58f6158",
   "metadata": {},
   "outputs": [
    {
     "name": "stdout",
     "output_type": "stream",
     "text": [
      "['odd', 'even', 'odd', 'even', 'odd']\n"
     ]
    }
   ],
   "source": [
    "a=[1,2,3,4,5]\n",
    "b=['even' if i%2==0 else 'odd' for i in a]\n",
    "print(b)"
   ]
  },
  {
   "cell_type": "code",
   "execution_count": 25,
   "id": "637225ad",
   "metadata": {},
   "outputs": [
    {
     "name": "stdout",
     "output_type": "stream",
     "text": [
      "['pass', 'pass', 3, 4, 5]\n"
     ]
    }
   ],
   "source": [
    "a=[1,2,3,4,5]\n",
    "b=[i if i>=3 else 'pass' for i in a]\n",
    "print(b)"
   ]
  },
  {
   "cell_type": "markdown",
   "id": "3d44f6a3",
   "metadata": {},
   "source": [
    "### Dictionary compresion"
   ]
  },
  {
   "cell_type": "code",
   "execution_count": 28,
   "id": "81bf2d2f",
   "metadata": {},
   "outputs": [
    {
     "name": "stdout",
     "output_type": "stream",
     "text": [
      "{'kamal': 40, 'teja': 60, 'sai': 120}\n"
     ]
    }
   ],
   "source": [
    "a={'kamal':20,'teja':30,'sai':60}\n",
    "for i,j in a.items():\n",
    "    a[i]=j*2\n",
    "print(a)"
   ]
  },
  {
   "cell_type": "code",
   "execution_count": 29,
   "id": "115989db",
   "metadata": {},
   "outputs": [
    {
     "name": "stdout",
     "output_type": "stream",
     "text": [
      "{1: 2, 2: 3}\n"
     ]
    }
   ],
   "source": [
    "f={}\n",
    "for i in range(1,3):\n",
    "    f[i]=i+1\n",
    "print(f)"
   ]
  },
  {
   "cell_type": "code",
   "execution_count": 37,
   "id": "e9825052",
   "metadata": {},
   "outputs": [
    {
     "name": "stdout",
     "output_type": "stream",
     "text": [
      "{'Teja': 60, 'sai': 120}\n"
     ]
    }
   ],
   "source": [
    "a={'kamal':20,'Teja':30,'sai':60}\n",
    "b={i:j*2 for (i,j) in a.items() if j>=30}\n",
    "print(b)"
   ]
  },
  {
   "cell_type": "code",
   "execution_count": 38,
   "id": "5355492d",
   "metadata": {},
   "outputs": [
    {
     "name": "stdout",
     "output_type": "stream",
     "text": [
      "{'sai': 'pass', 'kamal': 'fail', 'teja': 'pass'}\n"
     ]
    }
   ],
   "source": [
    "a={'sai':60,'kamal':40,'teja':90}\n",
    "b={}\n",
    "for i,j in a.items():\n",
    "    if j>=50:\n",
    "        b[i]='pass'\n",
    "    else:\n",
    "        b[i]='fail'\n",
    "print(b)"
   ]
  },
  {
   "cell_type": "code",
   "execution_count": 39,
   "id": "ce29f704",
   "metadata": {},
   "outputs": [
    {
     "name": "stdout",
     "output_type": "stream",
     "text": [
      "{'sai': 'pass', 'kamal': 'fail', 'teja': 'pass'}\n"
     ]
    }
   ],
   "source": [
    "a={'sai':60,'kamal':40,'teja':90}\n",
    "b={i:('pass' if j>=50 else 'fail') for (i,j) in a.items()}\n",
    "print(b)"
   ]
  },
  {
   "cell_type": "code",
   "execution_count": 1,
   "id": "ba8bcba0",
   "metadata": {},
   "outputs": [],
   "source": [
    "a=open('C:/Users/kesan/Desktop/sai.txt','w')\n",
    "a.write('i am python developer')\n",
    "a.close()"
   ]
  },
  {
   "cell_type": "code",
   "execution_count": 42,
   "id": "8f703d61",
   "metadata": {},
   "outputs": [
    {
     "name": "stdout",
     "output_type": "stream",
     "text": [
      "i am python developer\n"
     ]
    }
   ],
   "source": [
    "a=open('C:/Users/kesan/Desktop/sai.txt','r')\n",
    "print(a.read())\n",
    "a.close()"
   ]
  },
  {
   "cell_type": "code",
   "execution_count": 2,
   "id": "5f3c6adc",
   "metadata": {},
   "outputs": [],
   "source": [
    "a=open('C:/Users/kesan/Desktop/sai.txt','a')\n",
    "a.write(' and i am java developer')\n",
    "a.close()\n"
   ]
  },
  {
   "cell_type": "code",
   "execution_count": 3,
   "id": "c197e220",
   "metadata": {},
   "outputs": [
    {
     "name": "stdout",
     "output_type": "stream",
     "text": [
      "i am python developer and i am java developer\n"
     ]
    }
   ],
   "source": [
    "a=open('C:/Users/kesan/Desktop/sai.txt','r')\n",
    "print(a.read())\n",
    "a.close()"
   ]
  },
  {
   "cell_type": "code",
   "execution_count": 55,
   "id": "2c43da01",
   "metadata": {},
   "outputs": [],
   "source": [
    "a=\"\"\" The Times of India (also known by its abbreviation TOI) is an Indian English-language daily newspaper and digital news media owned and managed by The Times Group. It is the third-largest newspaper in India by circulation and largest selling English-language daily in the world.[1][2][3][4][5][6] It is the oldest English-language newspaper in India, and the second-oldest Indian newspaper still in circulation, with its first edition published in 1838.[7] It is nicknamed as \"The Old Lady of Bori Bunder\",[8][9] and is an Indian \"newspaper of record\".[10][11]\n",
    "\n",
    "Near the beginning of the 20th century, Lord Curzon, the Viceroy of India, called TOI \"the leading paper in Asia\".[12][13] In 1991, the BBC ranked TOI among the world's six best newspapers.[14][15]\"\"\""
   ]
  },
  {
   "cell_type": "code",
   "execution_count": 56,
   "id": "559b1bc9",
   "metadata": {},
   "outputs": [
    {
     "data": {
      "text/plain": [
       "' The Times of India (also known by its abbreviation TOI) is an Indian English-language daily newspaper and digital news media owned and managed by The Times Group. It is the third-largest newspaper in India by circulation and largest selling English-language daily in the world.[1][2][3][4][5][6] It is the oldest English-language newspaper in India, and the second-oldest Indian newspaper still in circulation, with its first edition published in 1838.[7] It is nicknamed as \"The Old Lady of Bori Bunder\",[8][9] and is an Indian \"newspaper of record\".[10][11]\\n\\nNear the beginning of the 20th century, Lord Curzon, the Viceroy of India, called TOI \"the leading paper in Asia\".[12][13] In 1991, the BBC ranked TOI among the world\\'s six best newspapers.[14][15]'"
      ]
     },
     "execution_count": 56,
     "metadata": {},
     "output_type": "execute_result"
    }
   ],
   "source": [
    "a"
   ]
  },
  {
   "cell_type": "code",
   "execution_count": 57,
   "id": "b7402a09",
   "metadata": {},
   "outputs": [],
   "source": [
    "k=open('C:/Users/kesan/Desktop/sai.txt','w')\n",
    "k.write(a)\n",
    "k.close()\n"
   ]
  },
  {
   "cell_type": "code",
   "execution_count": 59,
   "id": "3b4e5180",
   "metadata": {},
   "outputs": [
    {
     "name": "stdout",
     "output_type": "stream",
     "text": [
      " The Times of India (also known by its abbreviation TOI) is an Indian English-language daily newspaper and digital news media owned and managed by The Times Group. It is the third-largest newspaper in India by circulation and largest selling English-language daily in the world.[1][2][3][4][5][6] It is the oldest English-language newspaper in India, and the second-oldest Indian newspaper still in circulation, with its first edition published in 1838.[7] It is nicknamed as \"The Old Lady of Bori Bunder\",[8][9] and is an Indian \"newspaper of record\".[10][11]\n",
      "\n",
      "Near the beginning of the 20th century, Lord Curzon, the Viceroy of India, called TOI \"the leading paper in Asia\".[12][13] In 1991, the BBC ranked TOI among the world's six best newspapers.[14][15]\n"
     ]
    }
   ],
   "source": [
    "k=open('C:/Users/kesan/Desktop/sai.txt','r')\n",
    "print(k.read())\n",
    "k.close()"
   ]
  },
  {
   "cell_type": "code",
   "execution_count": 60,
   "id": "20bd4c51",
   "metadata": {},
   "outputs": [
    {
     "name": "stdout",
     "output_type": "stream",
     "text": [
      " The Times of India (also known by its abbreviation TOI) is an Indian English-language daily newspaper and digital news media owned and managed by The Times Group. It is the third-largest newspaper in India by circulation and largest selling English-language daily in the world.[1][2][3][4][5][6] It is the oldest English-language newspaper in India, and the second-oldest Indian newspaper still in circulation, with its first edition published in 1838.[7] It is nicknamed as \"The Old Lady of Bori Bunder\",[8][9] and is an Indian \"newspaper of record\".[10][11]\n",
      "\n"
     ]
    }
   ],
   "source": [
    "k=open('C:/Users/kesan/Desktop/sai.txt','r')\n",
    "print(k.readline())\n",
    "k.close()"
   ]
  },
  {
   "cell_type": "code",
   "execution_count": 61,
   "id": "abb23652",
   "metadata": {},
   "outputs": [
    {
     "name": "stdout",
     "output_type": "stream",
     "text": [
      "[' The Times of India (also known by its abbreviation TOI) is an Indian English-language daily newspaper and digital news media owned and managed by The Times Group. It is the third-largest newspaper in India by circulation and largest selling English-language daily in the world.[1][2][3][4][5][6] It is the oldest English-language newspaper in India, and the second-oldest Indian newspaper still in circulation, with its first edition published in 1838.[7] It is nicknamed as \"The Old Lady of Bori Bunder\",[8][9] and is an Indian \"newspaper of record\".[10][11]\\n', '\\n', 'Near the beginning of the 20th century, Lord Curzon, the Viceroy of India, called TOI \"the leading paper in Asia\".[12][13] In 1991, the BBC ranked TOI among the world\\'s six best newspapers.[14][15]']\n"
     ]
    }
   ],
   "source": [
    "k=open('C:/Users/kesan/Desktop/sai.txt','r')\n",
    "print(k.readlines())\n",
    "k.close()"
   ]
  },
  {
   "cell_type": "code",
   "execution_count": 62,
   "id": "28ba0ffa",
   "metadata": {},
   "outputs": [],
   "source": [
    "with open('C:/Users/kesan/Desktop/sai.txt','w') as f:\n",
    "    f.write('python')\n",
    "    f.close()"
   ]
  },
  {
   "cell_type": "code",
   "execution_count": null,
   "id": "f95ec7b0",
   "metadata": {},
   "outputs": [],
   "source": []
  }
 ],
 "metadata": {
  "kernelspec": {
   "display_name": "Python 3 (ipykernel)",
   "language": "python",
   "name": "python3"
  },
  "language_info": {
   "codemirror_mode": {
    "name": "ipython",
    "version": 3
   },
   "file_extension": ".py",
   "mimetype": "text/x-python",
   "name": "python",
   "nbconvert_exporter": "python",
   "pygments_lexer": "ipython3",
   "version": "3.9.12"
  }
 },
 "nbformat": 4,
 "nbformat_minor": 5
}
